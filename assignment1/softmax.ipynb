{
 "cells": [
  {
   "cell_type": "markdown",
   "metadata": {},
   "source": [
    "# Softmax exercise\n",
    "\n",
    "*Complete and hand in this completed worksheet (including its outputs and any supporting code outside of the worksheet) with your assignment submission. For more details see the [assignments page](http://vision.stanford.edu/teaching/cs231n/assignments.html) on the course website.*\n",
    "\n",
    "This exercise is analogous to the SVM exercise. You will:\n",
    "\n",
    "- implement a fully-vectorized **loss function** for the Softmax classifier\n",
    "- implement the fully-vectorized expression for its **analytic gradient**\n",
    "- **check your implementation** with numerical gradient\n",
    "- use a validation set to **tune the learning rate and regularization** strength\n",
    "- **optimize** the loss function with **SGD**\n",
    "- **visualize** the final learned weights\n"
   ]
  },
  {
   "cell_type": "code",
   "execution_count": 1,
   "metadata": {
    "collapsed": true
   },
   "outputs": [],
   "source": [
    "import random\n",
    "import numpy as np\n",
    "from cs231n.data_utils import load_CIFAR10\n",
    "import matplotlib.pyplot as plt\n",
    "\n",
    "from __future__ import print_function\n",
    "\n",
    "%matplotlib inline\n",
    "plt.rcParams['figure.figsize'] = (10.0, 8.0) # set default size of plots\n",
    "plt.rcParams['image.interpolation'] = 'nearest'\n",
    "plt.rcParams['image.cmap'] = 'gray'\n",
    "\n",
    "# for auto-reloading extenrnal modules\n",
    "# see http://stackoverflow.com/questions/1907993/autoreload-of-modules-in-ipython\n",
    "%load_ext autoreload\n",
    "%autoreload 2"
   ]
  },
  {
   "cell_type": "code",
   "execution_count": 2,
   "metadata": {
    "collapsed": true
   },
   "outputs": [],
   "source": [
    "from cs231n.classifiers import Softmax"
   ]
  },
  {
   "cell_type": "code",
   "execution_count": 3,
   "metadata": {},
   "outputs": [
    {
     "name": "stdout",
     "output_type": "stream",
     "text": [
      "Train data shape:  (49000, 3073)\n",
      "Train labels shape:  (49000,)\n",
      "Validation data shape:  (1000, 3073)\n",
      "Validation labels shape:  (1000,)\n",
      "Test data shape:  (1000, 3073)\n",
      "Test labels shape:  (1000,)\n",
      "dev data shape:  (500, 3073)\n",
      "dev labels shape:  (500,)\n"
     ]
    }
   ],
   "source": [
    "def get_CIFAR10_data(num_training=49000, num_validation=1000, num_test=1000, num_dev=500):\n",
    "    \"\"\"\n",
    "    Load the CIFAR-10 dataset from disk and perform preprocessing to prepare\n",
    "    it for the linear classifier. These are the same steps as we used for the\n",
    "    SVM, but condensed to a single function.  \n",
    "    \"\"\"\n",
    "    # Load the raw CIFAR-10 data\n",
    "    cifar10_dir = 'cs231n/datasets/cifar-10-batches-py'\n",
    "    X_train, y_train, X_test, y_test = load_CIFAR10(cifar10_dir)\n",
    "    \n",
    "    # subsample the data\n",
    "    mask = list(range(num_training, num_training + num_validation))\n",
    "    X_val = X_train[mask]\n",
    "    y_val = y_train[mask]\n",
    "    mask = list(range(num_training))\n",
    "    X_train = X_train[mask]\n",
    "    y_train = y_train[mask]\n",
    "    mask = list(range(num_test))\n",
    "    X_test = X_test[mask]\n",
    "    y_test = y_test[mask]\n",
    "    mask = np.random.choice(num_training, num_dev, replace=False)\n",
    "    X_dev = X_train[mask]\n",
    "    y_dev = y_train[mask]\n",
    "    \n",
    "    # Preprocessing: reshape the image data into rows\n",
    "    X_train = np.reshape(X_train, (X_train.shape[0], -1))\n",
    "    X_val = np.reshape(X_val, (X_val.shape[0], -1))\n",
    "    X_test = np.reshape(X_test, (X_test.shape[0], -1))\n",
    "    X_dev = np.reshape(X_dev, (X_dev.shape[0], -1))\n",
    "    \n",
    "    # Normalize the data: subtract the mean image\n",
    "    mean_image = np.mean(X_train, axis = 0)\n",
    "    X_train -= mean_image\n",
    "    X_val -= mean_image\n",
    "    X_test -= mean_image\n",
    "    X_dev -= mean_image\n",
    "    \n",
    "    # add bias dimension and transform into columns\n",
    "    X_train = np.hstack([X_train, np.ones((X_train.shape[0], 1))])\n",
    "    X_val = np.hstack([X_val, np.ones((X_val.shape[0], 1))])\n",
    "    X_test = np.hstack([X_test, np.ones((X_test.shape[0], 1))])\n",
    "    X_dev = np.hstack([X_dev, np.ones((X_dev.shape[0], 1))])\n",
    "    \n",
    "    return X_train, y_train, X_val, y_val, X_test, y_test, X_dev, y_dev\n",
    "\n",
    "\n",
    "# Invoke the above function to get our data.\n",
    "X_train, y_train, X_val, y_val, X_test, y_test, X_dev, y_dev = get_CIFAR10_data()\n",
    "print('Train data shape: ', X_train.shape)\n",
    "print('Train labels shape: ', y_train.shape)\n",
    "print('Validation data shape: ', X_val.shape)\n",
    "print('Validation labels shape: ', y_val.shape)\n",
    "print('Test data shape: ', X_test.shape)\n",
    "print('Test labels shape: ', y_test.shape)\n",
    "print('dev data shape: ', X_dev.shape)\n",
    "print('dev labels shape: ', y_dev.shape)"
   ]
  },
  {
   "cell_type": "markdown",
   "metadata": {},
   "source": [
    "## Softmax Classifier\n",
    "\n",
    "Your code for this section will all be written inside **cs231n/classifiers/softmax.py**. \n"
   ]
  },
  {
   "cell_type": "code",
   "execution_count": 4,
   "metadata": {
    "collapsed": true
   },
   "outputs": [],
   "source": [
    "from cs231n.classifiers.softmax import softmax_loss_naive\n",
    "from cs231n.classifiers.softmax import softmax_loss_vectorized"
   ]
  },
  {
   "cell_type": "code",
   "execution_count": 5,
   "metadata": {},
   "outputs": [
    {
     "name": "stdout",
     "output_type": "stream",
     "text": [
      "Test\n",
      "loss: 2.331708\n",
      "sanity check: 2.302585\n"
     ]
    }
   ],
   "source": [
    "# First implement the naive softmax loss function with nested loops.\n",
    "# Open the file cs231n/classifiers/softmax.py and implement the\n",
    "# softmax_loss_naive function.\n",
    "\n",
    "import time\n",
    "\n",
    "# Generate a random softmax weight matrix and use it to compute the loss.\n",
    "W = np.random.randn(3073, 10) * 0.0001\n",
    "loss, grad = softmax_loss_naive(W, X_dev, y_dev, 0.0)\n",
    "\n",
    "# As a rough sanity check, our loss should be something close to -log(0.1).\n",
    "print('loss: %f' % loss)\n",
    "print('sanity check: %f' % (-np.log(0.1)))"
   ]
  },
  {
   "cell_type": "markdown",
   "metadata": {},
   "source": [
    "## Inline Question 1:\n",
    "Why do we expect our loss to be close to -log(0.1)? Explain briefly.**\n",
    "\n",
    "**Your answer:** *Fill this in*\n"
   ]
  },
  {
   "cell_type": "code",
   "execution_count": 30,
   "metadata": {},
   "outputs": [
    {
     "name": "stdout",
     "output_type": "stream",
     "text": [
      "Test\n"
     ]
    },
    {
     "ename": "KeyboardInterrupt",
     "evalue": "",
     "output_type": "error",
     "traceback": [
      "\u001b[1;31m---------------------------------------------------------------------------\u001b[0m",
      "\u001b[1;31mKeyboardInterrupt\u001b[0m                         Traceback (most recent call last)",
      "\u001b[1;32m<ipython-input-30-ff03c88c04db>\u001b[0m in \u001b[0;36m<module>\u001b[1;34m()\u001b[0m\n\u001b[0;32m      1\u001b[0m \u001b[1;31m# Complete the implementation of softmax_loss_naive and implement a (naive)\u001b[0m\u001b[1;33m\u001b[0m\u001b[1;33m\u001b[0m\u001b[0m\n\u001b[0;32m      2\u001b[0m \u001b[1;31m# version of the gradient that uses nested loops.\u001b[0m\u001b[1;33m\u001b[0m\u001b[1;33m\u001b[0m\u001b[0m\n\u001b[1;32m----> 3\u001b[1;33m \u001b[0mloss\u001b[0m\u001b[1;33m,\u001b[0m \u001b[0mgrad\u001b[0m \u001b[1;33m=\u001b[0m \u001b[0msoftmax_loss_naive\u001b[0m\u001b[1;33m(\u001b[0m\u001b[0mW\u001b[0m\u001b[1;33m,\u001b[0m \u001b[0mX_dev\u001b[0m\u001b[1;33m,\u001b[0m \u001b[0my_dev\u001b[0m\u001b[1;33m,\u001b[0m \u001b[1;36m0.0\u001b[0m\u001b[1;33m)\u001b[0m\u001b[1;33m\u001b[0m\u001b[0m\n\u001b[0m\u001b[0;32m      4\u001b[0m \u001b[1;33m\u001b[0m\u001b[0m\n\u001b[0;32m      5\u001b[0m \u001b[1;31m# As we did for the SVM, use numeric gradient checking as a debugging tool.\u001b[0m\u001b[1;33m\u001b[0m\u001b[1;33m\u001b[0m\u001b[0m\n",
      "\u001b[1;32mC:\\Anaconda3\\work\\cs231\\assignment1\\cs231n\\classifiers\\softmax.py\u001b[0m in \u001b[0;36msoftmax_loss_naive\u001b[1;34m(W, X, y, reg)\u001b[0m\n\u001b[0;32m     50\u001b[0m             \u001b[1;32mfor\u001b[0m \u001b[0mi\u001b[0m \u001b[1;32min\u001b[0m \u001b[0mxrange\u001b[0m\u001b[1;33m(\u001b[0m\u001b[0mW\u001b[0m\u001b[1;33m.\u001b[0m\u001b[0mshape\u001b[0m\u001b[1;33m[\u001b[0m\u001b[1;36m0\u001b[0m\u001b[1;33m]\u001b[0m\u001b[1;33m)\u001b[0m\u001b[1;33m:\u001b[0m  \u001b[1;31m# features loop\u001b[0m\u001b[1;33m\u001b[0m\u001b[0m\n\u001b[0;32m     51\u001b[0m                 \u001b[1;31m# dw = X[k,i]\u001b[0m\u001b[1;33m\u001b[0m\u001b[1;33m\u001b[0m\u001b[0m\n\u001b[1;32m---> 52\u001b[1;33m                 \u001b[0mdW\u001b[0m\u001b[1;33m[\u001b[0m\u001b[0mi\u001b[0m\u001b[1;33m,\u001b[0m\u001b[0mj\u001b[0m\u001b[1;33m]\u001b[0m \u001b[1;33m+=\u001b[0m \u001b[0mdf\u001b[0m\u001b[1;33m*\u001b[0m\u001b[0mX\u001b[0m\u001b[1;33m[\u001b[0m\u001b[0mk\u001b[0m\u001b[1;33m,\u001b[0m\u001b[0mi\u001b[0m\u001b[1;33m]\u001b[0m\u001b[1;33m\u001b[0m\u001b[0m\n\u001b[0m\u001b[0;32m     53\u001b[0m \u001b[1;33m\u001b[0m\u001b[0m\n\u001b[0;32m     54\u001b[0m     \u001b[0mloss\u001b[0m \u001b[1;33m/=\u001b[0m\u001b[0mnum_train\u001b[0m\u001b[1;33m\u001b[0m\u001b[0m\n",
      "\u001b[1;31mKeyboardInterrupt\u001b[0m: "
     ]
    }
   ],
   "source": [
    "# Complete the implementation of softmax_loss_naive and implement a (naive)\n",
    "# version of the gradient that uses nested loops.\n",
    "loss, grad = softmax_loss_naive(W, X_dev, y_dev, 0.0)\n",
    "\n",
    "# As we did for the SVM, use numeric gradient checking as a debugging tool.\n",
    "# The numeric gradient should be close to the analytic gradient.\n",
    "from cs231n.gradient_check import grad_check_sparse\n",
    "f = lambda w: softmax_loss_naive(w, X_dev, y_dev, 0.0)[0]\n",
    "grad_numerical = grad_check_sparse(f, W, grad, 20)\n",
    "\n",
    "# similar to SVM case, do another gradient check with regularization\n",
    "loss, grad = softmax_loss_naive(W, X_dev, y_dev, 5e1)\n",
    "f = lambda w: softmax_loss_naive(w, X_dev, y_dev, 5e1)[0]\n",
    "grad_numerical = grad_check_sparse(f, W, grad, 20)"
   ]
  },
  {
   "cell_type": "code",
   "execution_count": 33,
   "metadata": {},
   "outputs": [
    {
     "name": "stdout",
     "output_type": "stream",
     "text": [
      "numerical: -0.122730 analytic: -0.122730, relative error: 1.618643e-07\n",
      "numerical: -0.011118 analytic: -0.011118, relative error: 3.140105e-06\n",
      "numerical: 0.804930 analytic: 0.804930, relative error: 1.669996e-09\n",
      "numerical: -1.467934 analytic: -1.467934, relative error: 7.923331e-09\n",
      "numerical: 0.751231 analytic: 0.751231, relative error: 3.919346e-08\n",
      "numerical: 0.000635 analytic: 0.000635, relative error: 6.714847e-05\n",
      "numerical: 0.221358 analytic: 0.221358, relative error: 2.070731e-07\n",
      "numerical: 1.395881 analytic: 1.395881, relative error: 9.924403e-09\n",
      "numerical: 0.292291 analytic: 0.292291, relative error: 2.581070e-08\n",
      "numerical: -1.287130 analytic: -1.287130, relative error: 3.117381e-08\n"
     ]
    }
   ],
   "source": [
    "# similar to SVM case, do another gradient check with regularization\n",
    "loss, grad = softmax_loss_vectorized(W, X_dev, y_dev, 0)\n",
    "f = lambda w: softmax_loss_vectorized(w, X_dev, y_dev, 0)[0]\n",
    "grad_numerical = grad_check_sparse(f, W, grad, 10)"
   ]
  },
  {
   "cell_type": "code",
   "execution_count": 5,
   "metadata": {},
   "outputs": [
    {
     "name": "stdout",
     "output_type": "stream",
     "text": [
      "0.0030088424682617188\n"
     ]
    }
   ],
   "source": [
    "# Complete the implementation of softmax_loss_naive and implement a (naive)\n",
    "# version of the gradient that uses nested loops.\n",
    "tic = time.time()\n",
    "loss, grad = softmax_loss_vectorized(W, X_dev, y_dev, 0.0)\n",
    "print(time.time()-tic)"
   ]
  },
  {
   "cell_type": "code",
   "execution_count": 6,
   "metadata": {},
   "outputs": [
    {
     "name": "stdout",
     "output_type": "stream",
     "text": [
      "Test\n",
      "naive loss: 2.418199e+00 computed in 10.499703s\n",
      "vectorized loss: 2.418199e+00 computed in 0.003008s\n",
      "Loss difference: 0.000000\n",
      "Gradient difference: 0.000000\n"
     ]
    }
   ],
   "source": [
    "# Now that we have a naive implementation of the softmax loss function and its gradient,\n",
    "# implement a vectorized version in softmax_loss_vectorized.\n",
    "# The two versions should compute the same results, but the vectorized version should be\n",
    "# much faster.\n",
    "tic = time.time()\n",
    "loss_naive, grad_naive = softmax_loss_naive(W, X_dev, y_dev, 0.000005)\n",
    "toc = time.time()\n",
    "print('naive loss: %e computed in %fs' % (loss_naive, toc - tic))\n",
    "\n",
    "from cs231n.classifiers.softmax import softmax_loss_vectorized\n",
    "tic = time.time()\n",
    "loss_vectorized, grad_vectorized = softmax_loss_vectorized(W, X_dev, y_dev, 0.000005)\n",
    "toc = time.time()\n",
    "print('vectorized loss: %e computed in %fs' % (loss_vectorized, toc - tic))\n",
    "\n",
    "# As we did for the SVM, we use the Frobenius norm to compare the two versions\n",
    "# of the gradient.\n",
    "grad_difference = np.linalg.norm(grad_naive - grad_vectorized, ord='fro')\n",
    "print('Loss difference: %f' % np.abs(loss_naive - loss_vectorized))\n",
    "print('Gradient difference: %f' % grad_difference)"
   ]
  },
  {
   "cell_type": "markdown",
   "metadata": {},
   "source": [
    "### Smoke test"
   ]
  },
  {
   "cell_type": "code",
   "execution_count": 11,
   "metadata": {},
   "outputs": [
    {
     "name": "stdout",
     "output_type": "stream",
     "text": [
      "iteration 0 / 50000: loss 775.326716\n"
     ]
    },
    {
     "ename": "KeyboardInterrupt",
     "evalue": "",
     "output_type": "error",
     "traceback": [
      "\u001b[1;31m---------------------------------------------------------------------------\u001b[0m",
      "\u001b[1;31mKeyboardInterrupt\u001b[0m                         Traceback (most recent call last)",
      "\u001b[1;32m<ipython-input-11-635be106864e>\u001b[0m in \u001b[0;36m<module>\u001b[1;34m()\u001b[0m\n\u001b[0;32m      1\u001b[0m \u001b[0msvm\u001b[0m \u001b[1;33m=\u001b[0m \u001b[0mSoftmax\u001b[0m\u001b[1;33m(\u001b[0m\u001b[1;33m)\u001b[0m\u001b[1;33m\u001b[0m\u001b[0m\n\u001b[0;32m      2\u001b[0m \u001b[0mtic\u001b[0m \u001b[1;33m=\u001b[0m \u001b[0mtime\u001b[0m\u001b[1;33m.\u001b[0m\u001b[0mtime\u001b[0m\u001b[1;33m(\u001b[0m\u001b[1;33m)\u001b[0m\u001b[1;33m\u001b[0m\u001b[0m\n\u001b[1;32m----> 3\u001b[1;33m \u001b[0mloss_hist\u001b[0m \u001b[1;33m=\u001b[0m \u001b[0msvm\u001b[0m\u001b[1;33m.\u001b[0m\u001b[0mtrain\u001b[0m\u001b[1;33m(\u001b[0m\u001b[0mX_train\u001b[0m\u001b[1;33m,\u001b[0m \u001b[0my_train\u001b[0m\u001b[1;33m,\u001b[0m \u001b[0mlearning_rate\u001b[0m\u001b[1;33m=\u001b[0m\u001b[1;36m1e-7\u001b[0m\u001b[1;33m,\u001b[0m \u001b[0mreg\u001b[0m\u001b[1;33m=\u001b[0m\u001b[1;36m2.5e4\u001b[0m\u001b[1;33m,\u001b[0m \u001b[0mnum_iters\u001b[0m\u001b[1;33m=\u001b[0m\u001b[1;36m50000\u001b[0m\u001b[1;33m,\u001b[0m \u001b[0mverbose\u001b[0m\u001b[1;33m=\u001b[0m\u001b[1;32mTrue\u001b[0m\u001b[1;33m)\u001b[0m\u001b[1;33m\u001b[0m\u001b[0m\n\u001b[0m\u001b[0;32m      4\u001b[0m \u001b[0mtoc\u001b[0m \u001b[1;33m=\u001b[0m \u001b[0mtime\u001b[0m\u001b[1;33m.\u001b[0m\u001b[0mtime\u001b[0m\u001b[1;33m(\u001b[0m\u001b[1;33m)\u001b[0m\u001b[1;33m\u001b[0m\u001b[0m\n\u001b[0;32m      5\u001b[0m \u001b[1;31m#print('That took %fs' % (toc - tic))\u001b[0m\u001b[1;33m\u001b[0m\u001b[1;33m\u001b[0m\u001b[0m\n",
      "\u001b[1;32mC:\\Anaconda3\\work\\cs231\\assignment1\\cs231n\\classifiers\\linear_classifier.py\u001b[0m in \u001b[0;36mtrain\u001b[1;34m(self, X, y, learning_rate, reg, num_iters, batch_size, verbose)\u001b[0m\n\u001b[0;32m     39\u001b[0m         \u001b[0mloss_history\u001b[0m \u001b[1;33m=\u001b[0m \u001b[1;33m[\u001b[0m\u001b[1;33m]\u001b[0m\u001b[1;33m\u001b[0m\u001b[0m\n\u001b[0;32m     40\u001b[0m         \u001b[1;32mfor\u001b[0m \u001b[0mit\u001b[0m \u001b[1;32min\u001b[0m \u001b[0mxrange\u001b[0m\u001b[1;33m(\u001b[0m\u001b[0mnum_iters\u001b[0m\u001b[1;33m)\u001b[0m\u001b[1;33m:\u001b[0m\u001b[1;33m\u001b[0m\u001b[0m\n\u001b[1;32m---> 41\u001b[1;33m             \u001b[0mids\u001b[0m \u001b[1;33m=\u001b[0m \u001b[0mnp\u001b[0m\u001b[1;33m.\u001b[0m\u001b[0mrandom\u001b[0m\u001b[1;33m.\u001b[0m\u001b[0mchoice\u001b[0m\u001b[1;33m(\u001b[0m\u001b[0mrange\u001b[0m\u001b[1;33m(\u001b[0m\u001b[0mnum_train\u001b[0m\u001b[1;33m)\u001b[0m\u001b[1;33m,\u001b[0m \u001b[0mbatch_size\u001b[0m\u001b[1;33m)\u001b[0m\u001b[1;33m\u001b[0m\u001b[0m\n\u001b[0m\u001b[0;32m     42\u001b[0m             \u001b[0mX_batch\u001b[0m \u001b[1;33m=\u001b[0m \u001b[0mX\u001b[0m\u001b[1;33m[\u001b[0m\u001b[0mids\u001b[0m\u001b[1;33m,\u001b[0m\u001b[1;33m:\u001b[0m\u001b[1;33m]\u001b[0m\u001b[1;33m\u001b[0m\u001b[0m\n\u001b[0;32m     43\u001b[0m             \u001b[0my_batch\u001b[0m \u001b[1;33m=\u001b[0m \u001b[0my\u001b[0m\u001b[1;33m[\u001b[0m\u001b[0mids\u001b[0m\u001b[1;33m]\u001b[0m\u001b[1;33m\u001b[0m\u001b[0m\n",
      "\u001b[1;32mmtrand.pyx\u001b[0m in \u001b[0;36mmtrand.RandomState.choice\u001b[1;34m()\u001b[0m\n",
      "\u001b[1;32mC:\\Anaconda3\\lib\\site-packages\\numpy\\core\\fromnumeric.py\u001b[0m in \u001b[0;36mprod\u001b[1;34m(a, axis, dtype, out, keepdims)\u001b[0m\n\u001b[0;32m   2504\u001b[0m \u001b[1;33m\u001b[0m\u001b[0m\n\u001b[0;32m   2505\u001b[0m     \"\"\"\n\u001b[1;32m-> 2506\u001b[1;33m     \u001b[0mkwargs\u001b[0m \u001b[1;33m=\u001b[0m \u001b[1;33m{\u001b[0m\u001b[1;33m}\u001b[0m\u001b[1;33m\u001b[0m\u001b[0m\n\u001b[0m\u001b[0;32m   2507\u001b[0m     \u001b[1;32mif\u001b[0m \u001b[0mkeepdims\u001b[0m \u001b[1;32mis\u001b[0m \u001b[1;32mnot\u001b[0m \u001b[0mnp\u001b[0m\u001b[1;33m.\u001b[0m\u001b[0m_NoValue\u001b[0m\u001b[1;33m:\u001b[0m\u001b[1;33m\u001b[0m\u001b[0m\n\u001b[0;32m   2508\u001b[0m         \u001b[0mkwargs\u001b[0m\u001b[1;33m[\u001b[0m\u001b[1;34m'keepdims'\u001b[0m\u001b[1;33m]\u001b[0m \u001b[1;33m=\u001b[0m \u001b[0mkeepdims\u001b[0m\u001b[1;33m\u001b[0m\u001b[0m\n",
      "\u001b[1;31mKeyboardInterrupt\u001b[0m: "
     ]
    }
   ],
   "source": [
    "svm = Softmax()\n",
    "tic = time.time()\n",
    "loss_hist = svm.train(X_train, y_train, learning_rate=1e-7, reg=2.5e4, num_iters=50000, verbose=True)\n",
    "toc = time.time()\n",
    "#print('That took %fs' % (toc - tic))\n",
    "\n",
    "# A useful debugging strategy is to plot the loss as a function of\n",
    "# iteration number:\n",
    "plt.semilogx(loss_hist)\n",
    "plt.xlabel('Iteration number')\n",
    "plt.ylabel('Loss value')\n",
    "plt.show()"
   ]
  },
  {
   "cell_type": "code",
   "execution_count": 12,
   "metadata": {},
   "outputs": [
    {
     "name": "stdout",
     "output_type": "stream",
     "text": [
      "Learning rate is 1.00e-07, regularization is 1.00e+04\n",
      "Train accuracy is 0.3289, validation accuracy is 0.3390\n",
      "\n",
      "\n",
      "Learning rate is 1.00e-07, regularization is 3.25e+04\n",
      "Train accuracy is 0.3390, validation accuracy is 0.3420\n",
      "\n",
      "\n",
      "Learning rate is 1.00e-07, regularization is 5.50e+04\n",
      "Train accuracy is 0.3491, validation accuracy is 0.3420\n",
      "\n",
      "\n",
      "Learning rate is 1.00e-07, regularization is 7.75e+04\n",
      "Train accuracy is 0.3578, validation accuracy is 0.3620\n",
      "\n",
      "\n",
      "Learning rate is 1.00e-07, regularization is 1.00e+05\n",
      "Train accuracy is 0.3679, validation accuracy is 0.3620\n",
      "\n",
      "\n",
      "Learning rate is 1.78e-07, regularization is 1.00e+04\n",
      "Train accuracy is 0.3639, validation accuracy is 0.3470\n",
      "\n",
      "\n",
      "Learning rate is 1.78e-07, regularization is 3.25e+04\n",
      "Train accuracy is 0.3737, validation accuracy is 0.3570\n",
      "\n",
      "\n",
      "Learning rate is 1.78e-07, regularization is 5.50e+04\n",
      "Train accuracy is 0.3859, validation accuracy is 0.3900\n",
      "\n",
      "\n",
      "Learning rate is 1.78e-07, regularization is 7.75e+04\n",
      "Train accuracy is 0.3904, validation accuracy is 0.3940\n",
      "\n",
      "\n",
      "Learning rate is 1.78e-07, regularization is 1.00e+05\n",
      "Train accuracy is 0.4012, validation accuracy is 0.3850\n",
      "\n",
      "\n",
      "Learning rate is 3.16e-07, regularization is 1.00e+04\n",
      "Train accuracy is 0.3930, validation accuracy is 0.3830\n",
      "\n",
      "\n",
      "Learning rate is 3.16e-07, regularization is 3.25e+04\n",
      "Train accuracy is 0.4057, validation accuracy is 0.3900\n",
      "\n",
      "\n",
      "Learning rate is 3.16e-07, regularization is 5.50e+04\n",
      "Train accuracy is 0.4178, validation accuracy is 0.3980\n",
      "\n",
      "\n",
      "Learning rate is 3.16e-07, regularization is 7.75e+04\n",
      "Train accuracy is 0.4205, validation accuracy is 0.4170\n",
      "\n",
      "\n",
      "Learning rate is 3.16e-07, regularization is 1.00e+05\n",
      "Train accuracy is 0.4228, validation accuracy is 0.4150\n",
      "\n",
      "\n",
      "Learning rate is 5.62e-07, regularization is 1.00e+04\n",
      "Train accuracy is 0.4170, validation accuracy is 0.3890\n",
      "\n",
      "\n",
      "Learning rate is 5.62e-07, regularization is 3.25e+04\n",
      "Train accuracy is 0.4312, validation accuracy is 0.3980\n",
      "\n",
      "\n",
      "Learning rate is 5.62e-07, regularization is 5.50e+04\n",
      "Train accuracy is 0.4299, validation accuracy is 0.4160\n",
      "\n",
      "\n",
      "Learning rate is 5.62e-07, regularization is 7.75e+04\n",
      "Train accuracy is 0.4317, validation accuracy is 0.4160\n",
      "\n",
      "\n",
      "Learning rate is 5.62e-07, regularization is 1.00e+05\n",
      "Train accuracy is 0.4277, validation accuracy is 0.4210\n",
      "\n",
      "\n",
      "Learning rate is 1.00e-06, regularization is 1.00e+04\n",
      "Train accuracy is 0.4339, validation accuracy is 0.3940\n",
      "\n",
      "\n",
      "Learning rate is 1.00e-06, regularization is 3.25e+04\n",
      "Train accuracy is 0.4364, validation accuracy is 0.4050\n",
      "\n",
      "\n",
      "Learning rate is 1.00e-06, regularization is 5.50e+04\n",
      "Train accuracy is 0.4339, validation accuracy is 0.4050\n",
      "\n",
      "\n",
      "Learning rate is 1.00e-06, regularization is 7.75e+04\n",
      "Train accuracy is 0.4288, validation accuracy is 0.4120\n",
      "\n",
      "\n",
      "Learning rate is 1.00e-06, regularization is 1.00e+05\n",
      "Train accuracy is 0.4181, validation accuracy is 0.4080\n",
      "\n",
      "\n",
      "best validation accuracy achieved during cross-validation: 0.421000\n",
      "lr 1.000000e-07 reg 1.000000e+04 train accuracy: 0.328918 val accuracy: 0.339000\n",
      "lr 1.000000e-07 reg 3.250000e+04 train accuracy: 0.338980 val accuracy: 0.342000\n",
      "lr 1.000000e-07 reg 5.500000e+04 train accuracy: 0.349102 val accuracy: 0.342000\n",
      "lr 1.000000e-07 reg 7.750000e+04 train accuracy: 0.357796 val accuracy: 0.362000\n",
      "lr 1.000000e-07 reg 1.000000e+05 train accuracy: 0.367878 val accuracy: 0.362000\n",
      "lr 1.778279e-07 reg 1.000000e+04 train accuracy: 0.363939 val accuracy: 0.347000\n",
      "lr 1.778279e-07 reg 3.250000e+04 train accuracy: 0.373673 val accuracy: 0.357000\n",
      "lr 1.778279e-07 reg 5.500000e+04 train accuracy: 0.385898 val accuracy: 0.390000\n",
      "lr 1.778279e-07 reg 7.750000e+04 train accuracy: 0.390449 val accuracy: 0.394000\n",
      "lr 1.778279e-07 reg 1.000000e+05 train accuracy: 0.401184 val accuracy: 0.385000\n",
      "lr 3.162278e-07 reg 1.000000e+04 train accuracy: 0.393041 val accuracy: 0.383000\n",
      "lr 3.162278e-07 reg 3.250000e+04 train accuracy: 0.405653 val accuracy: 0.390000\n",
      "lr 3.162278e-07 reg 5.500000e+04 train accuracy: 0.417837 val accuracy: 0.398000\n",
      "lr 3.162278e-07 reg 7.750000e+04 train accuracy: 0.420531 val accuracy: 0.417000\n",
      "lr 3.162278e-07 reg 1.000000e+05 train accuracy: 0.422816 val accuracy: 0.415000\n",
      "lr 5.623413e-07 reg 1.000000e+04 train accuracy: 0.416980 val accuracy: 0.389000\n",
      "lr 5.623413e-07 reg 3.250000e+04 train accuracy: 0.431163 val accuracy: 0.398000\n",
      "lr 5.623413e-07 reg 5.500000e+04 train accuracy: 0.429898 val accuracy: 0.416000\n",
      "lr 5.623413e-07 reg 7.750000e+04 train accuracy: 0.431694 val accuracy: 0.416000\n",
      "lr 5.623413e-07 reg 1.000000e+05 train accuracy: 0.427694 val accuracy: 0.421000\n",
      "lr 1.000000e-06 reg 1.000000e+04 train accuracy: 0.433939 val accuracy: 0.394000\n",
      "lr 1.000000e-06 reg 3.250000e+04 train accuracy: 0.436449 val accuracy: 0.405000\n",
      "lr 1.000000e-06 reg 5.500000e+04 train accuracy: 0.433939 val accuracy: 0.405000\n",
      "lr 1.000000e-06 reg 7.750000e+04 train accuracy: 0.428755 val accuracy: 0.412000\n",
      "lr 1.000000e-06 reg 1.000000e+05 train accuracy: 0.418122 val accuracy: 0.408000\n",
      "best validation accuracy achieved during cross-validation: 0.421000\n"
     ]
    }
   ],
   "source": [
    "# Use the validation set to tune hyperparameters (regularization strength and\n",
    "# learning rate). You should experiment with different ranges for the learning\n",
    "# rates and regularization strengths; if you are careful you should be able to\n",
    "# get a classification accuracy of over 0.35 on the validation set.\n",
    "from cs231n.classifiers import Softmax\n",
    "-\n",
    "################################################################################\n",
    "#                              END OF YOUR CODE                                #\n",
    "################################################################################\n",
    "    \n",
    "# Print out results.\n",
    "for lr, reg in sorted(results):\n",
    "    train_accuracy, val_accuracy = results[(lr, reg)]\n",
    "    print('lr %e reg %e train accuracy: %f val accuracy: %f' % (\n",
    "                lr, reg, train_accuracy, val_accuracy))\n",
    "    \n",
    "print('best validation accuracy achieved during cross-validation: %f' % best_val)"
   ]
  },
  {
   "cell_type": "code",
   "execution_count": 13,
   "metadata": {},
   "outputs": [
    {
     "name": "stdout",
     "output_type": "stream",
     "text": [
      "softmax on raw pixels final test set accuracy: 0.405000\n"
     ]
    }
   ],
   "source": [
    "# evaluate on test set\n",
    "# Evaluate the best softmax on test set\n",
    "y_test_pred = stm.predict(X_test)\n",
    "test_accuracy = np.mean(y_test == y_test_pred)\n",
    "print('softmax on raw pixels final test set accuracy: %f' % (test_accuracy, ))"
   ]
  },
  {
   "cell_type": "code",
   "execution_count": 15,
   "metadata": {},
   "outputs": [
    {
     "name": "stdout",
     "output_type": "stream",
     "text": [
      "iteration 0 / 50000: loss 1096.947606, learning rate 8.000e-07\n",
      "iteration 1000 / 50000: loss 600.922340, learning rate 7.686e-07\n",
      "iteration 2000 / 50000: loss 348.244233, learning rate 7.385e-07\n",
      "iteration 3000 / 50000: loss 209.364281, learning rate 7.095e-07\n",
      "iteration 4000 / 50000: loss 130.550305, learning rate 6.817e-07\n",
      "iteration 5000 / 50000: loss 84.516970, learning rate 6.550e-07\n",
      "iteration 6000 / 50000: loss 57.356360, learning rate 6.293e-07\n",
      "iteration 7000 / 50000: loss 40.608393, learning rate 6.046e-07\n",
      "iteration 8000 / 50000: loss 30.493674, learning rate 5.809e-07\n",
      "iteration 9000 / 50000: loss 23.898296, learning rate 5.581e-07\n",
      "iteration 10000 / 50000: loss 19.715571, learning rate 5.362e-07\n",
      "iteration 11000 / 50000: loss 16.966974, learning rate 5.152e-07\n",
      "iteration 12000 / 50000: loss 15.054569, learning rate 4.950e-07\n",
      "iteration 13000 / 50000: loss 13.937531, learning rate 4.756e-07\n",
      "iteration 14000 / 50000: loss 13.140791, learning rate 4.569e-07\n",
      "iteration 15000 / 50000: loss 12.522514, learning rate 4.390e-07\n",
      "iteration 16000 / 50000: loss 12.090453, learning rate 4.218e-07\n",
      "iteration 17000 / 50000: loss 11.784210, learning rate 4.053e-07\n",
      "iteration 18000 / 50000: loss 11.678099, learning rate 3.894e-07\n",
      "iteration 19000 / 50000: loss 11.700133, learning rate 3.741e-07\n",
      "iteration 20000 / 50000: loss 11.427829, learning rate 3.594e-07\n",
      "iteration 21000 / 50000: loss 11.338745, learning rate 3.453e-07\n",
      "iteration 22000 / 50000: loss 11.337477, learning rate 3.318e-07\n",
      "iteration 23000 / 50000: loss 11.211703, learning rate 3.188e-07\n",
      "iteration 24000 / 50000: loss 11.171055, learning rate 3.063e-07\n",
      "iteration 25000 / 50000: loss 11.214038, learning rate 2.943e-07\n",
      "iteration 26000 / 50000: loss 11.038481, learning rate 2.827e-07\n",
      "iteration 27000 / 50000: loss 11.165961, learning rate 2.717e-07\n",
      "iteration 28000 / 50000: loss 11.053549, learning rate 2.610e-07\n",
      "iteration 29000 / 50000: loss 11.041197, learning rate 2.508e-07\n",
      "iteration 30000 / 50000: loss 11.034386, learning rate 2.409e-07\n",
      "iteration 31000 / 50000: loss 11.071818, learning rate 2.315e-07\n",
      "iteration 32000 / 50000: loss 11.066227, learning rate 2.224e-07\n",
      "iteration 33000 / 50000: loss 10.984575, learning rate 2.137e-07\n",
      "iteration 34000 / 50000: loss 11.127705, learning rate 2.053e-07\n",
      "iteration 35000 / 50000: loss 11.126298, learning rate 1.973e-07\n",
      "iteration 36000 / 50000: loss 11.001134, learning rate 1.895e-07\n",
      "iteration 37000 / 50000: loss 11.046022, learning rate 1.821e-07\n",
      "iteration 38000 / 50000: loss 10.964930, learning rate 1.750e-07\n",
      "iteration 39000 / 50000: loss 10.923696, learning rate 1.681e-07\n",
      "iteration 40000 / 50000: loss 11.102480, learning rate 1.615e-07\n",
      "iteration 41000 / 50000: loss 10.955528, learning rate 1.552e-07\n",
      "iteration 42000 / 50000: loss 10.945472, learning rate 1.491e-07\n",
      "iteration 43000 / 50000: loss 10.983002, learning rate 1.432e-07\n",
      "iteration 44000 / 50000: loss 10.887538, learning rate 1.376e-07\n",
      "iteration 45000 / 50000: loss 11.064585, learning rate 1.322e-07\n",
      "iteration 46000 / 50000: loss 10.962329, learning rate 1.270e-07\n",
      "iteration 47000 / 50000: loss 10.951096, learning rate 1.221e-07\n",
      "iteration 48000 / 50000: loss 10.922649, learning rate 1.173e-07\n",
      "iteration 49000 / 50000: loss 11.013293, learning rate 1.127e-07\n"
     ]
    },
    {
     "data": {
      "text/plain": [
       "[<matplotlib.lines.Line2D at 0x1cc50680e10>]"
      ]
     },
     "execution_count": 15,
     "metadata": {},
     "output_type": "execute_result"
    },
    {
     "data": {
      "image/png": "[encoded data removed]",
      "text/plain": [
       "<matplotlib.figure.Figure at 0x1cc037f1f60>"
      ]
     },
     "metadata": {},
     "output_type": "display_data"
    }
   ],
   "source": [
    "# Learning rate is 2.78e-06, regularization is 7.00e+04\n",
    "# Train accuracy is 0.4419, validation accuracy is 0.4020\n",
    "\n",
    "stm = Softmax()\n",
    "err, rate = stm.train(X_train, y_train, learning_rate=8e-7, reg=7e4,\n",
    "                num_iters=50000, verbose=True, decay=4e-5)\n",
    "\n",
    "plt.subplot(211)\n",
    "plt.semilogx(err)\n",
    "\n",
    "plt.subplot(212)\n",
    "plt.plot(rate)"
   ]
  },
  {
   "cell_type": "code",
   "execution_count": 7,
   "metadata": {},
   "outputs": [
    {
     "name": "stdout",
     "output_type": "stream",
     "text": [
      "softmax on raw pixels final test set accuracy: 0.405000\n"
     ]
    }
   ],
   "source": [
    "# evaluate on test set\n",
    "# Evaluate the best softmax on test set\n",
    "y_test_pred = stm.predict(X_test)\n",
    "test_accuracy = np.mean(y_test == y_test_pred)\n",
    "print('softmax on raw pixels final test set accuracy: %f' % (test_accuracy, ))"
   ]
  },
  {
   "cell_type": "code",
   "execution_count": 14,
   "metadata": {},
   "outputs": [
    {
     "data": {
      "image/png": "[encoded data removed]",
      "text/plain": [
       "<matplotlib.figure.Figure at 0x1cc037f1e10>"
      ]
     },
     "metadata": {},
     "output_type": "display_data"
    }
   ],
   "source": [
    "# Visualize the learned weights for each class\n",
    "w = stm.W[:-1,:] # strip out the bias\n",
    "w = w.reshape(32, 32, 3, 10)\n",
    "\n",
    "w_min, w_max = np.min(w), np.max(w)\n",
    "\n",
    "classes = ['plane', 'car', 'bird', 'cat', 'deer', 'dog', 'frog', 'horse', 'ship', 'truck']\n",
    "for i in range(10):\n",
    "    plt.subplot(2, 5, i + 1)\n",
    "    \n",
    "    # Rescale the weights to be between 0 and 255\n",
    "    wimg = 255.0 * (w[:, :, :, i].squeeze() - w_min) / (w_max - w_min)\n",
    "    plt.imshow(wimg.astype('uint8'))\n",
    "    plt.axis('off')\n",
    "    plt.title(classes[i])"
   ]
  },
  {
   "cell_type": "code",
   "execution_count": null,
   "metadata": {
    "collapsed": true
   },
   "outputs": [],
   "source": []
  }
 ],
 "metadata": {
  "kernelspec": {
   "display_name": "Python 3",
   "language": "python",
   "name": "python3"
  },
  "language_info": {
   "codemirror_mode": {
    "name": "ipython",
    "version": 3
   },
   "file_extension": ".py",
   "mimetype": "text/x-python",
   "name": "python",
   "nbconvert_exporter": "python",
   "pygments_lexer": "ipython3",
   "version": "3.6.3"
  }
 },
 "nbformat": 4,
 "nbformat_minor": 1
}
